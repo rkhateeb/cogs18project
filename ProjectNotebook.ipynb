{
 "cells": [
  {
   "cell_type": "markdown",
   "metadata": {},
   "source": [
    "# Project Description"
   ]
  },
  {
   "cell_type": "markdown",
   "metadata": {},
   "source": [
    "**PLEASE NOTE THAT THIS WILL NOT WORK IN DATAHUB, ONLY ON LOCALHOST WILL CODE ACTUALLY RUN**\n",
    "\n",
    "The goal of this project is to fetch nutritional information on an item using the barcode. The project makes use of the website openfoodfacts.org, and requires a webcam of some sort. When the code is run, the computer's camera will open, and a food item can be held up to the camera and scanned. Upon being scanned, a link will open to openfoodfact.org, where everything from nutritional info to serving size to general information about the product will be displayed. \n",
    "\n",
    "The project has several real life applications. Currently, food packaging is required to show nutritional info. A program such as the one I have made would eliminate the need for this (customers could just scan with their phone or a barcode reader in a store), which would allow for less packaging and thus less waste. The website also provides ingredient information, which is important to many people but very hard to read as the font is very small on packaging. Thus, this program would allow users to open up on their phones and read ingredients clearly rather than squinting to read."
   ]
  },
  {
   "cell_type": "markdown",
   "metadata": {},
   "source": [
    "## Project Code\n"
   ]
  },
  {
   "cell_type": "code",
   "execution_count": 2,
   "metadata": {},
   "outputs": [],
   "source": [
    "from Modules import functions as fc"
   ]
  },
  {
   "cell_type": "code",
   "execution_count": 3,
   "metadata": {},
   "outputs": [],
   "source": [
    "def main ():\n",
    "    \"\"\"Combines the three functions into the main one \n",
    "    - asks the user if they want to scan a barcode, and if they do, \n",
    "    - will look for a barcode from the webcam \n",
    "    - opens the website with the nutriotional info for the barcode\n",
    "    \n",
    "    Parameters\n",
    "    ----------\n",
    "    None\n",
    "     \n",
    "    Returns\n",
    "    -------\n",
    "    nutrition_info_page: a website containing the nutrition info of the scanned food item.\n",
    "    \"\"\" \n",
    "    if fc.question_input() == True:\n",
    "        barcode_val = fc.get_barcodes_from_webcam()\n",
    "        x = fc.get_info_from_website(barcode_val[0])\n",
    "        print(x)"
   ]
  },
  {
   "cell_type": "code",
   "execution_count": 4,
   "metadata": {},
   "outputs": [
    {
     "name": "stdout",
     "output_type": "stream",
     "text": [
      "Would you like to scan a barcode? Type 'yes' to begin.  yes\n",
      "Barcode detected. 00617536\n",
      "True\n"
     ]
    }
   ],
   "source": [
    "# run the main function\n",
    "main()"
   ]
  },
  {
   "cell_type": "markdown",
   "metadata": {},
   "source": [
    "# Results of running pytest on my terminal\n",
    "\n",
    "pytest -v ./Modules/test_functions.py\n",
    "============================================================================== test session starts ==============================================================================\n",
    "platform darwin -- Python 3.8.5, pytest-6.2.4, py-1.10.0, pluggy-0.13.1 -- /Users/rizqxkhateeb/.pyenv/versions/3.8.5/bin/python3.8\n",
    "cachedir: .pytest_cache\n",
    "rootdir: /Users/rizqxkhateeb/python_classes/COGS18Project\n",
    "collected 3 items                                                                                                                                                               \n",
    "\n",
    "Modules/test_functions.py::test_question_input PASSED                                                                                                                     [ 33%]\n",
    "Modules/test_functions.py::test_get_barcodes_from_webcam PASSED                                                                                                           [ 66%]\n",
    "Modules/test_functions.py::test_get_info_from_website PASSED                                                                                                              [100%]\n",
    "\n",
    "============================================================================== 3 passed in 22.74s ===============================================================================\n"
   ]
  },
  {
   "cell_type": "markdown",
   "metadata": {},
   "source": [
    "#### Extra Credit (*optional*)\n",
    "\n",
    "Replace all of this text with a brief explanation (~3 sentences) of: \n",
    "\n",
    "1. I have fairly little experience with python. In winter quarter this year, I started a python coursera course, but never completed it. Most of what I learned in python comes exclusively from this class, and I have used this knowledge in my COGS 109 class, which allowed me to exapnd on this. COGS 109 taught me about pandas, matplotlib, and numpy, and I implemented that knowledge about using packages into this project. I had to install pybar and cv2, but was struggling initially with installing them and running on datahub. Ultimately, I decided to switch everything to my local device but conda installs were not working. I had to learn how to install the packages, which I had no experience with. After research however, I was able to learn about pyenv and learn to install these packages and implement them into my code, thus helping create the function for scanning.\n",
    "\n",
    "2. As someone interested in nutrition and staying healthy, I find it important to make sure what I put in my body is also beneficial. Nutrition information is something that is available on almost all packaged food, but these labels provide little information into the food and its acutal effects. My project finds the item in a database based on barcode by scanning using a computer's built in camera, and then brings up nutritional information that goes beyond just what's on a label. From an environmental standpoint, barcode scanning can also allow for reduced packaging waste, and easier legibility of ingredients."
   ]
  }
 ],
 "metadata": {
  "kernelspec": {
   "display_name": "Python 3",
   "language": "python",
   "name": "python3"
  },
  "language_info": {
   "codemirror_mode": {
    "name": "ipython",
    "version": 3
   },
   "file_extension": ".py",
   "mimetype": "text/x-python",
   "name": "python",
   "nbconvert_exporter": "python",
   "pygments_lexer": "ipython3",
   "version": "3.8.5"
  }
 },
 "nbformat": 4,
 "nbformat_minor": 4
}
